{
 "cells": [
  {
   "cell_type": "markdown",
   "metadata": {},
   "source": [
    "**Import csv**"
   ]
  },
  {
   "cell_type": "code",
   "execution_count": 18,
   "metadata": {
    "scrolled": true
   },
   "outputs": [
    {
     "data": {
      "text/html": [
       "<div>\n",
       "<style scoped>\n",
       "    .dataframe tbody tr th:only-of-type {\n",
       "        vertical-align: middle;\n",
       "    }\n",
       "\n",
       "    .dataframe tbody tr th {\n",
       "        vertical-align: top;\n",
       "    }\n",
       "\n",
       "    .dataframe thead th {\n",
       "        text-align: right;\n",
       "    }\n",
       "</style>\n",
       "<table border=\"1\" class=\"dataframe\">\n",
       "  <thead>\n",
       "    <tr style=\"text-align: right;\">\n",
       "      <th></th>\n",
       "      <th>Index</th>\n",
       "      <th>Title</th>\n",
       "      <th>Description</th>\n",
       "      <th>Year</th>\n",
       "      <th>Movie Suitability</th>\n",
       "      <th>Category</th>\n",
       "      <th>Minutes</th>\n",
       "      <th>Rating</th>\n",
       "      <th>Votes</th>\n",
       "      <th>Director</th>\n",
       "      <th>Stars</th>\n",
       "      <th>Gross</th>\n",
       "    </tr>\n",
       "  </thead>\n",
       "  <tbody>\n",
       "    <tr>\n",
       "      <th>0</th>\n",
       "      <td>1</td>\n",
       "      <td>The Shawshank Redemption</td>\n",
       "      <td>\\n    Two imprisoned men bond over a number of...</td>\n",
       "      <td>1994</td>\n",
       "      <td>R</td>\n",
       "      <td>\\nDrama</td>\n",
       "      <td>142 min</td>\n",
       "      <td>9.3</td>\n",
       "      <td>2,385,373</td>\n",
       "      <td>Frank Darabont</td>\n",
       "      <td>['Tim Robbins', 'Morgan Freeman', 'Bob Gunton'...</td>\n",
       "      <td>$28.34M</td>\n",
       "    </tr>\n",
       "    <tr>\n",
       "      <th>1</th>\n",
       "      <td>2</td>\n",
       "      <td>The Godfather</td>\n",
       "      <td>\\n    An organized crime dynasty's aging patri...</td>\n",
       "      <td>1972</td>\n",
       "      <td>R</td>\n",
       "      <td>\\nCrime, Drama</td>\n",
       "      <td>175 min</td>\n",
       "      <td>9.2</td>\n",
       "      <td>1,653,121</td>\n",
       "      <td>Francis Ford Coppola</td>\n",
       "      <td>['Marlon Brando', 'Al Pacino', 'James Caan', '...</td>\n",
       "      <td>$134.97M</td>\n",
       "    </tr>\n",
       "    <tr>\n",
       "      <th>2</th>\n",
       "      <td>3</td>\n",
       "      <td>The Dark Knight</td>\n",
       "      <td>\\n    When the menace known as the Joker wreak...</td>\n",
       "      <td>2008</td>\n",
       "      <td>PG-13</td>\n",
       "      <td>\\nAction, Crime, Drama</td>\n",
       "      <td>152 min</td>\n",
       "      <td>9.0</td>\n",
       "      <td>2,348,542</td>\n",
       "      <td>Christopher Nolan</td>\n",
       "      <td>['Christian Bale', 'Heath Ledger', 'Aaron Eckh...</td>\n",
       "      <td>$534.86M</td>\n",
       "    </tr>\n",
       "    <tr>\n",
       "      <th>3</th>\n",
       "      <td>4</td>\n",
       "      <td>The Godfather: Part II</td>\n",
       "      <td>\\n    The early life and career of Vito Corleo...</td>\n",
       "      <td>1974</td>\n",
       "      <td>R</td>\n",
       "      <td>\\nCrime, Drama</td>\n",
       "      <td>202 min</td>\n",
       "      <td>9.0</td>\n",
       "      <td>1,150,044</td>\n",
       "      <td>Francis Ford Coppola</td>\n",
       "      <td>['Al Pacino', 'Robert De Niro', 'Robert Duvall...</td>\n",
       "      <td>$57.30M</td>\n",
       "    </tr>\n",
       "    <tr>\n",
       "      <th>4</th>\n",
       "      <td>5</td>\n",
       "      <td>12 Angry Men</td>\n",
       "      <td>\\n    A jury holdout attempts to prevent a mis...</td>\n",
       "      <td>1957</td>\n",
       "      <td>Approved</td>\n",
       "      <td>\\nCrime, Drama</td>\n",
       "      <td>96 min</td>\n",
       "      <td>9.0</td>\n",
       "      <td>704,111</td>\n",
       "      <td>Sidney Lumet</td>\n",
       "      <td>['Henry Fonda', 'Lee J. Cobb', 'Martin Balsam'...</td>\n",
       "      <td>$4.36M</td>\n",
       "    </tr>\n",
       "  </tbody>\n",
       "</table>\n",
       "</div>"
      ],
      "text/plain": [
       "   Index                     Title  \\\n",
       "0      1  The Shawshank Redemption   \n",
       "1      2             The Godfather   \n",
       "2      3           The Dark Knight   \n",
       "3      4    The Godfather: Part II   \n",
       "4      5              12 Angry Men   \n",
       "\n",
       "                                         Description  Year Movie Suitability  \\\n",
       "0  \\n    Two imprisoned men bond over a number of...  1994                 R   \n",
       "1  \\n    An organized crime dynasty's aging patri...  1972                 R   \n",
       "2  \\n    When the menace known as the Joker wreak...  2008             PG-13   \n",
       "3  \\n    The early life and career of Vito Corleo...  1974                 R   \n",
       "4  \\n    A jury holdout attempts to prevent a mis...  1957          Approved   \n",
       "\n",
       "                             Category  Minutes  Rating      Votes  \\\n",
       "0                 \\nDrama              142 min     9.3  2,385,373   \n",
       "1          \\nCrime, Drama              175 min     9.2  1,653,121   \n",
       "2  \\nAction, Crime, Drama              152 min     9.0  2,348,542   \n",
       "3          \\nCrime, Drama              202 min     9.0  1,150,044   \n",
       "4          \\nCrime, Drama               96 min     9.0    704,111   \n",
       "\n",
       "               Director                                              Stars  \\\n",
       "0        Frank Darabont  ['Tim Robbins', 'Morgan Freeman', 'Bob Gunton'...   \n",
       "1  Francis Ford Coppola  ['Marlon Brando', 'Al Pacino', 'James Caan', '...   \n",
       "2     Christopher Nolan  ['Christian Bale', 'Heath Ledger', 'Aaron Eckh...   \n",
       "3  Francis Ford Coppola  ['Al Pacino', 'Robert De Niro', 'Robert Duvall...   \n",
       "4          Sidney Lumet  ['Henry Fonda', 'Lee J. Cobb', 'Martin Balsam'...   \n",
       "\n",
       "      Gross  \n",
       "0   $28.34M  \n",
       "1  $134.97M  \n",
       "2  $534.86M  \n",
       "3   $57.30M  \n",
       "4    $4.36M  "
      ]
     },
     "execution_count": 18,
     "metadata": {},
     "output_type": "execute_result"
    }
   ],
   "source": [
    "import pandas as pd\n",
    "table = pd.read_csv(r\"C:\\Users\\USER\\Desktop\\Pandas\\imdb_movies.csv\")\n",
    "table.head()"
   ]
  },
  {
   "cell_type": "markdown",
   "metadata": {},
   "source": [
    "**Check column types**"
   ]
  },
  {
   "cell_type": "code",
   "execution_count": 24,
   "metadata": {
    "scrolled": true
   },
   "outputs": [
    {
     "name": "stdout",
     "output_type": "stream",
     "text": [
      "<class 'pandas.core.frame.DataFrame'>\n",
      "RangeIndex: 250 entries, 0 to 249\n",
      "Data columns (total 12 columns):\n",
      " #   Column             Non-Null Count  Dtype  \n",
      "---  ------             --------------  -----  \n",
      " 0   Index              250 non-null    int64  \n",
      " 1   Title              250 non-null    object \n",
      " 2   Description        250 non-null    object \n",
      " 3   Year               250 non-null    object \n",
      " 4   Movie Suitability  250 non-null    object \n",
      " 5   Category           250 non-null    object \n",
      " 6   Minutes            250 non-null    object \n",
      " 7   Rating             250 non-null    float64\n",
      " 8   Votes              250 non-null    object \n",
      " 9   Director           250 non-null    object \n",
      " 10  Stars              250 non-null    object \n",
      " 11  Gross              250 non-null    object \n",
      "dtypes: float64(1), int64(1), object(10)\n",
      "memory usage: 23.6+ KB\n"
     ]
    }
   ],
   "source": [
    "table.info()"
   ]
  },
  {
   "cell_type": "markdown",
   "metadata": {},
   "source": [
    "**Rename columns**"
   ]
  },
  {
   "cell_type": "code",
   "execution_count": null,
   "metadata": {},
   "outputs": [],
   "source": [
    "table.rename(columns={\"Index\": \"Ranking\"},inplace=True)"
   ]
  },
  {
   "cell_type": "markdown",
   "metadata": {},
   "source": [
    "**Strip newline characters**"
   ]
  },
  {
   "cell_type": "code",
   "execution_count": 74,
   "metadata": {},
   "outputs": [],
   "source": [
    "table[\"Title\"] = table[\"Title\"].str.strip()"
   ]
  },
  {
   "cell_type": "code",
   "execution_count": 19,
   "metadata": {},
   "outputs": [],
   "source": [
    "table[\"Description\"] = table[\"Description\"].str.strip()"
   ]
  },
  {
   "cell_type": "code",
   "execution_count": 20,
   "metadata": {},
   "outputs": [],
   "source": [
    "table[\"Category\"] = table[\"Category\"].str.strip()"
   ]
  },
  {
   "cell_type": "code",
   "execution_count": 21,
   "metadata": {},
   "outputs": [],
   "source": [
    "table[\"Stars\"] = table[\"Stars\"].str.replace(\"[\", \"\").str.replace(\"]\", \"\")"
   ]
  },
  {
   "cell_type": "markdown",
   "metadata": {},
   "source": [
    "**Fix Gross column**"
   ]
  },
  {
   "cell_type": "code",
   "execution_count": 25,
   "metadata": {},
   "outputs": [],
   "source": [
    "table[\"Gross\"] = table[\"Gross\"].str.replace(\"$\",\"\")\n",
    "table[\"Gross\"] = table[\"Gross\"].str.replace(\"M\",\"\").str.replace(\",\",\".\")"
   ]
  },
  {
   "cell_type": "code",
   "execution_count": 42,
   "metadata": {},
   "outputs": [],
   "source": [
    "table[\"Gross\"] = table[\"Gross\"].astype(\"float\")\n",
    "table[\"Gross\"] = table[\"Gross\"] * 1000000"
   ]
  },
  {
   "cell_type": "markdown",
   "metadata": {},
   "source": [
    "**Change Year column type**"
   ]
  },
  {
   "cell_type": "code",
   "execution_count": 53,
   "metadata": {},
   "outputs": [],
   "source": [
    "table[\"Year\"] = table[\"Year\"].str.replace(\"I \", \"\")\n",
    "table[\"Year\"] = table[\"Year\"].astype(\"int\")"
   ]
  },
  {
   "cell_type": "markdown",
   "metadata": {},
   "source": [
    "**Fix Votes column type**"
   ]
  },
  {
   "cell_type": "code",
   "execution_count": 60,
   "metadata": {},
   "outputs": [],
   "source": [
    "table[\"Votes\"] = table[\"Votes\"].str.replace(\",\",\"\").astype(\"int\")"
   ]
  },
  {
   "cell_type": "markdown",
   "metadata": {},
   "source": [
    "**Remove min from Minutes column**"
   ]
  },
  {
   "cell_type": "code",
   "execution_count": 63,
   "metadata": {},
   "outputs": [],
   "source": [
    "table[\"Minutes\"] = table[\"Minutes\"].str.replace(\" min\",\"\")\n",
    "table[\"Minutes\"] = table[\"Minutes\"].astype(\"int\")"
   ]
  },
  {
   "cell_type": "code",
   "execution_count": 82,
   "metadata": {},
   "outputs": [
    {
     "name": "stdout",
     "output_type": "stream",
     "text": [
      "<class 'pandas.core.frame.DataFrame'>\n",
      "RangeIndex: 250 entries, 0 to 249\n",
      "Data columns (total 12 columns):\n",
      " #   Column             Non-Null Count  Dtype  \n",
      "---  ------             --------------  -----  \n",
      " 0   Ranking            250 non-null    int64  \n",
      " 1   Title              250 non-null    object \n",
      " 2   Description        250 non-null    object \n",
      " 3   Year               250 non-null    int32  \n",
      " 4   Movie Suitability  250 non-null    object \n",
      " 5   Category           250 non-null    object \n",
      " 6   Minutes            250 non-null    int32  \n",
      " 7   Rating             250 non-null    float64\n",
      " 8   Votes              250 non-null    int32  \n",
      " 9   Director           250 non-null    object \n",
      " 10  Stars              250 non-null    object \n",
      " 11  Gross              250 non-null    float64\n",
      "dtypes: float64(2), int32(3), int64(1), object(6)\n",
      "memory usage: 20.6+ KB\n"
     ]
    }
   ],
   "source": [
    "table.info()"
   ]
  },
  {
   "cell_type": "markdown",
   "metadata": {},
   "source": [
    "**Save dataframe to a new csv**"
   ]
  },
  {
   "cell_type": "code",
   "execution_count": 83,
   "metadata": {
    "scrolled": true
   },
   "outputs": [],
   "source": [
    "table.to_csv(\"Clean_imdb_movies.csv\", index=False)"
   ]
  },
  {
   "cell_type": "code",
   "execution_count": null,
   "metadata": {},
   "outputs": [],
   "source": []
  },
  {
   "cell_type": "code",
   "execution_count": null,
   "metadata": {},
   "outputs": [],
   "source": []
  }
 ],
 "metadata": {
  "kernelspec": {
   "display_name": "Python 3",
   "language": "python",
   "name": "python3"
  },
  "language_info": {
   "codemirror_mode": {
    "name": "ipython",
    "version": 3
   },
   "file_extension": ".py",
   "mimetype": "text/x-python",
   "name": "python",
   "nbconvert_exporter": "python",
   "pygments_lexer": "ipython3",
   "version": "3.8.5"
  }
 },
 "nbformat": 4,
 "nbformat_minor": 4
}
